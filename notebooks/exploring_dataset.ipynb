{
 "cells": [
  {
   "cell_type": "code",
   "execution_count": 1,
   "id": "963adf9a-6470-4529-bb83-f3d9da8be4c4",
   "metadata": {},
   "outputs": [],
   "source": [
    "from dml.utils import DiabetesDataset\n",
    "from dml.model.dnn import DNN\n",
    "\n",
    "import torch\n",
    "import torch.nn as nn\n",
    "from torch.utils.data import DataLoader\n",
    "\n",
    "import pytorch_lightning as pl\n",
    "from pytorch_lightning.callbacks import ModelCheckpoint\n",
    "from pytorch_lightning.loggers import WandbLogger\n",
    "\n",
    "import pandas as pd"
   ]
  },
  {
   "cell_type": "code",
   "execution_count": 2,
   "id": "48fd7a0a-49a7-4b40-b7aa-d287d15afd87",
   "metadata": {},
   "outputs": [],
   "source": [
    "wandb = WandbLogger(project='dml')"
   ]
  },
  {
   "cell_type": "code",
   "execution_count": 3,
   "id": "08a63697-2bcf-4d77-af51-fb25d5caf85d",
   "metadata": {},
   "outputs": [],
   "source": [
    "AVAIL_GPUS = min(1, torch.cuda.device_count())\n",
    "BATCH_SIZE = 256 if AVAIL_GPUS else 64"
   ]
  },
  {
   "cell_type": "code",
   "execution_count": 4,
   "id": "5019903b-9063-4f4d-a60d-724fcdb9be1b",
   "metadata": {},
   "outputs": [
    {
     "data": {
      "text/plain": [
       "<torch._C.Generator at 0x23c6b726f50>"
      ]
     },
     "execution_count": 4,
     "metadata": {},
     "output_type": "execute_result"
    }
   ],
   "source": [
    "torch.manual_seed(42)"
   ]
  },
  {
   "cell_type": "code",
   "execution_count": 5,
   "id": "a3019175-0185-4882-93f3-bd4c16c7e2a5",
   "metadata": {},
   "outputs": [
    {
     "data": {
      "text/plain": [
       "(56553, 14139)"
      ]
     },
     "execution_count": 5,
     "metadata": {},
     "output_type": "execute_result"
    }
   ],
   "source": [
    "dataset = DiabetesDataset('../data/diabetes.csv')\n",
    "\n",
    "train_len = int(len(dataset) * 0.8)\n",
    "test_len = len(dataset) - train_len\n",
    "\n",
    "train_dataset, test_dataset = torch.utils.data.random_split(dataset, [train_len, test_len])\n",
    "len(train_dataset), len(test_dataset)"
   ]
  },
  {
   "cell_type": "code",
   "execution_count": 6,
   "id": "85602620-ea72-4918-bfa2-88fb3599a195",
   "metadata": {},
   "outputs": [],
   "source": [
    "train_loader = DataLoader(train_dataset, batch_size=BATCH_SIZE, shuffle=True)\n",
    "val_loader = DataLoader(test_dataset, batch_size=BATCH_SIZE)\n",
    "test_loader = DataLoader(test_dataset, batch_size=BATCH_SIZE)"
   ]
  },
  {
   "cell_type": "markdown",
   "id": "db557bf5-4b4e-4e97-ba72-f2f3eb2e42f9",
   "metadata": {},
   "source": [
    "### Training the model"
   ]
  },
  {
   "cell_type": "code",
   "execution_count": 8,
   "id": "88549ac9-9841-4ca0-b9f6-452f935fa738",
   "metadata": {},
   "outputs": [],
   "source": [
    "import os\n",
    "\n",
    "def train_classifier():\n",
    "    pl.seed_everything(42)\n",
    "    \n",
    "    root_dir = os.path.join('../dnnmodel', 'DiabetesModel')\n",
    "    os.makedirs(root_dir, exist_ok=True)\n",
    "    \n",
    "    trainer = pl.Trainer(\n",
    "        default_root_dir=root_dir,\n",
    "        logger=wandb,\n",
    "        callbacks=[ModelCheckpoint(save_weights_only=True, mode='max', monitor='val_acc')],\n",
    "        gpus=AVAIL_GPUS,\n",
    "        max_epochs=20,\n",
    "        progress_bar_refresh_rate=0\n",
    "    )\n",
    "    \n",
    "    trainer.logger._default_hp_metric = None\n",
    "    pretrained_filename = os.path.join('../dnnmodel', 'DiabetesModelDNN.ckpt')\n",
    "    \n",
    "    if os.path.isfile(pretrained_filename):\n",
    "        print('Found pretrained model, loading...')\n",
    "        model = DNN.load_from_checkpoint(pretrained_filename)\n",
    "    else:\n",
    "        model = DNN(c_in=21, c_hidden=64, c_out=1, num_layers=3)\n",
    "        trainer.fit(model, train_loader, val_loader)\n",
    "        \n",
    "        model = DNN.load_from_checkpoint(trainer.checkpoint_callback.best_model_path)\n",
    "        \n",
    "    train_result = trainer.test(model, test_dataloaders=train_loader, verbose=False)\n",
    "    test_result = trainer.test(model, test_dataloaders=test_loader, verbose=False)\n",
    "    \n",
    "    result = {\n",
    "        'test': test_result[0]['test_acc'],\n",
    "        'train': train_result[0]['test_acc']\n",
    "    }\n",
    "    \n",
    "    return model, result"
   ]
  },
  {
   "cell_type": "code",
   "execution_count": 9,
   "id": "779fea32-3826-4490-843e-f7ae5bcab06a",
   "metadata": {},
   "outputs": [
    {
     "name": "stderr",
     "output_type": "stream",
     "text": [
      "Global seed set to 42\n",
      "GPU available: True, used: True\n",
      "TPU available: False, using: 0 TPU cores\n",
      "IPU available: False, using: 0 IPUs\n",
      "LOCAL_RANK: 0 - CUDA_VISIBLE_DEVICES: [0]\n",
      "\u001b[34m\u001b[1mwandb\u001b[0m: Currently logged in as: \u001b[33mjbmed\u001b[0m (use `wandb login --relogin` to force relogin)\n"
     ]
    },
    {
     "data": {
      "text/html": [
       "Tracking run with wandb version 0.12.11"
      ],
      "text/plain": [
       "<IPython.core.display.HTML object>"
      ]
     },
     "metadata": {},
     "output_type": "display_data"
    },
    {
     "data": {
      "text/html": [
       "Run data is saved locally in <code>C:\\Users\\Gilberto\\Desktop\\diabetes\\notebooks\\wandb\\run-20220328_171219-1fz2gidm</code>"
      ],
      "text/plain": [
       "<IPython.core.display.HTML object>"
      ]
     },
     "metadata": {},
     "output_type": "display_data"
    },
    {
     "data": {
      "text/html": [
       "Syncing run <strong><a href=\"https://wandb.ai/jbmed/dml/runs/1fz2gidm\" target=\"_blank\">fresh-bush-1</a></strong> to <a href=\"https://wandb.ai/jbmed/dml\" target=\"_blank\">Weights & Biases</a> (<a href=\"https://wandb.me/run\" target=\"_blank\">docs</a>)<br/>"
      ],
      "text/plain": [
       "<IPython.core.display.HTML object>"
      ]
     },
     "metadata": {},
     "output_type": "display_data"
    },
    {
     "name": "stderr",
     "output_type": "stream",
     "text": [
      "\n",
      "  | Name        | Type              | Params\n",
      "--------------------------------------------------\n",
      "0 | flatten     | Flatten           | 0     \n",
      "1 | loss_module | BCEWithLogitsLoss | 0     \n",
      "2 | layers      | ModuleList        | 9.7 K \n",
      "3 | head        | Sequential        | 65    \n",
      "--------------------------------------------------\n",
      "9.8 K     Trainable params\n",
      "0         Non-trainable params\n",
      "9.8 K     Total params\n",
      "0.039     Total estimated model params size (MB)\n",
      "C:\\Users\\Gilberto\\Anaconda3\\envs\\stacklabs\\lib\\site-packages\\pytorch_lightning\\trainer\\data_loading.py:132: UserWarning: The dataloader, val_dataloader 0, does not have many workers which may be a bottleneck. Consider increasing the value of the `num_workers` argument` (try 12 which is the number of cpus on this machine) in the `DataLoader` init to improve performance.\n",
      "  rank_zero_warn(\n",
      "Global seed set to 42\n",
      "C:\\Users\\Gilberto\\Anaconda3\\envs\\stacklabs\\lib\\site-packages\\pytorch_lightning\\trainer\\data_loading.py:132: UserWarning: The dataloader, train_dataloader, does not have many workers which may be a bottleneck. Consider increasing the value of the `num_workers` argument` (try 12 which is the number of cpus on this machine) in the `DataLoader` init to improve performance.\n",
      "  rank_zero_warn(\n",
      "LOCAL_RANK: 0 - CUDA_VISIBLE_DEVICES: [0]\n",
      "C:\\Users\\Gilberto\\Anaconda3\\envs\\stacklabs\\lib\\site-packages\\pytorch_lightning\\trainer\\data_loading.py:659: UserWarning: Your `test_dataloader` has `shuffle=True`, it is strongly recommended that you turn this off for val/test/predict dataloaders.\n",
      "  rank_zero_warn(\n",
      "C:\\Users\\Gilberto\\Anaconda3\\envs\\stacklabs\\lib\\site-packages\\pytorch_lightning\\trainer\\data_loading.py:132: UserWarning: The dataloader, test_dataloader 0, does not have many workers which may be a bottleneck. Consider increasing the value of the `num_workers` argument` (try 12 which is the number of cpus on this machine) in the `DataLoader` init to improve performance.\n",
      "  rank_zero_warn(\n",
      "LOCAL_RANK: 0 - CUDA_VISIBLE_DEVICES: [0]\n"
     ]
    }
   ],
   "source": [
    "model, result = train_classifier()"
   ]
  },
  {
   "cell_type": "code",
   "execution_count": 10,
   "id": "b8ab1431-1ef7-4398-a499-2ea4211afafa",
   "metadata": {},
   "outputs": [
    {
     "data": {
      "text/plain": [
       "{'test': 0.7504066824913025, 'train': 0.7543366551399231}"
      ]
     },
     "execution_count": 10,
     "metadata": {},
     "output_type": "execute_result"
    }
   ],
   "source": [
    "result"
   ]
  }
 ],
 "metadata": {
  "kernelspec": {
   "display_name": "Python 3 (ipykernel)",
   "language": "python",
   "name": "python3"
  },
  "language_info": {
   "codemirror_mode": {
    "name": "ipython",
    "version": 3
   },
   "file_extension": ".py",
   "mimetype": "text/x-python",
   "name": "python",
   "nbconvert_exporter": "python",
   "pygments_lexer": "ipython3",
   "version": "3.9.7"
  }
 },
 "nbformat": 4,
 "nbformat_minor": 5
}
